{
 "cells": [
  {
   "attachments": {},
   "cell_type": "markdown",
   "metadata": {},
   "source": [
    "# A Multilevel Model\n",
    "\n",
    "Assume a model of voting that predicts the ith respondents vote choice in the tth election as a function of their authoritarianism score, $x_{auth, i, t}$, and a set of control variables, $z_{k, i, t}$, where $k$ denotes the $k$th control variable. The model can be written as:\n",
    "\n",
    "$pr(y_{i,t}| x_{auth, i, t}; x^2_{auth, i, t}; z_{k, i, t}) =\\beta_{0,k} + \\beta_{1,t} x_{auth, i, t} +  \\beta_{2,t} x_{auth, i, t}^2 + \\sum_{k=1}^K \\beta_k z_{k,i,t} +  \\epsilon_{t} +  \\epsilon_{i,t}$\n",
    "\n",
    "where $K$ denotes the number of control variables, $t$ cross-sectional year, and $i$, the $i$ th respondent (nested within the $t$ ANES survey). Wide priors were used for all the parameters, and the correlations between slopes and intercepts were always estimated (with the exception of the random intercept only model). The specification is general enough to allow for different error distributions."
   ]
  },
  {
   "cell_type": "code",
   "execution_count": null,
   "metadata": {
    "vscode": {
     "languageId": "r"
    }
   },
   "outputs": [],
   "source": [
    "## These were loaded in the container build.\n",
    "library(brms)\n",
    "#library(tidyverse)\n",
    "library(ggplot2)\n",
    "library(modelr)\n",
    "library(tidybayes)\n",
    "library(dplyr)\n",
    "library(cowplot)\n",
    "data_location = \"/Users/chrisweber/Desktop/Authoritarianism_V2/Authoritarianism_V2/clean_data/\"\n",
    "#### Load cleaned data\n",
    "load(\"/Users/Chris/Dropbox/github_repos/Authoritarianism_V2/clean_data/pooled.auth.rda\")  ### Just work from this data; everything should be here, recoded.\n",
    "##### persistent ggtheme\n",
    "ggtheme = theme(\n",
    "        plot.title=element_text(face=\"bold\",hjust=-.08,vjust=0,colour=\"#3C3C3C\",size=12),\n",
    "        axis.text.x=element_text(size=9,colour=\"#535353\",face=\"bold\"),\n",
    "        axis.text.y=element_text(size=9,colour=\"#535353\",face=\"bold\"),\n",
    "        axis.title.y=element_text(size=11,colour=\"#535353\",face=\"bold\",vjust=1.5),\n",
    "        axis.ticks=element_blank(),\n",
    "        panel.grid.major=element_line(colour=\"#D0D0D0\",size=.25),\n",
    "        panel.background=element_rect(fill=\"white\")) \n",
    "####\n",
    "data$authoritarianism_2 = data$authoritarianism^2 # Attempted with orthogonal contrasts, but the incompatibility with other stuff made it a challenge"
   ]
  },
  {
   "cell_type": "code",
   "execution_count": 2,
   "metadata": {
    "vscode": {
     "languageId": "r"
    }
   },
   "outputs": [],
   "source": [
    "### I create smaller, more tractable versions of the data rather than operating on the full data frame, data.\n",
    "tmp_dat = data[,c(\"vote\", \"authoritarianism\", \n",
    "                 \"female\", \"age\", \"college\", \"income\",\n",
    "                 \"jewish\", \"catholic\", \"other\", \"year\")] %>% na.omit() %>% \n",
    "                 mutate(authoritarianism_2 = authoritarianism*authoritarianism) "
   ]
  },
  {
   "attachments": {},
   "cell_type": "markdown",
   "metadata": {},
   "source": [
    "This is the random intercept model. I ran it over 3000 iterations, 3 chains. "
   ]
  },
  {
   "cell_type": "code",
   "execution_count": null,
   "metadata": {
    "vscode": {
     "languageId": "r"
    }
   },
   "outputs": [],
   "source": [
    "fit1 <- brm(vote~ female + age + college + income + jewish + \n",
    "                 catholic + other + authoritarianism + authoritarianism_2 + \n",
    "                 (1+authoritarianism + authoritarianism_2|year), \n",
    "                 family = bernoulli(link = \"logit\"),\n",
    "                 data = tmp_dat, \n",
    "                 chains = 3, cores = 8, seed = 1234, \n",
    "                 iter = 1000)"
   ]
  }
 ],
 "metadata": {
  "kernelspec": {
   "display_name": "R",
   "language": "R",
   "name": "ir"
  },
  "language_info": {
   "codemirror_mode": "r",
   "file_extension": ".r",
   "mimetype": "text/x-r-source",
   "name": "R",
   "pygments_lexer": "r",
   "version": "4.2.0"
  },
  "orig_nbformat": 4
 },
 "nbformat": 4,
 "nbformat_minor": 2
}
