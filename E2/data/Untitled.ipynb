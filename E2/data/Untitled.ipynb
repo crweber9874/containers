{
 "cells": [
  {
   "cell_type": "code",
   "execution_count": null,
   "id": "edaf02cd-5db4-4529-b03c-5d5371072536",
   "metadata": {},
   "outputs": [],
   "source": []
  }
 ],
 "metadata": {
  "kernelspec": {
   "display_name": "R",
   "language": "R",
   "name": "ir"
  },
  "language_info": {
   "codemirror_mode": "r",
   "file_extension": ".r",
   "mimetype": "text/x-r-source",
   "name": "R",
   "pygments_lexer": "r",
   "version": "4.2.3"
  }
 },
 "nbformat": 4,
 "nbformat_minor": 5
}
